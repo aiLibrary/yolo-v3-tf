{
 "cells": [
  {
   "cell_type": "code",
   "execution_count": 8,
   "metadata": {},
   "outputs": [],
   "source": [
    "from data.create_tfrecord import *\n",
    "% load_ext autoreload\n",
    "% autoreload 2"
   ]
  },
  {
   "cell_type": "code",
   "execution_count": 9,
   "metadata": {},
   "outputs": [
    {
     "name": "stdout",
     "output_type": "stream",
     "text": [
      "/home/sakulaki/code/yolo-v3-tf\n",
      "['/home/sakulaki/dataset/enhancement_608_01/train/2018-03-16-19_24_29_46200_37200_r270.jpg', '/home/sakulaki/dataset/enhancement_608_01/train/2017-10-10-16_01_26_71700_46600_r90.jpg', '/home/sakulaki/dataset/enhancement_608_01/train/2017-10-10-16_01_26_31700_42300_r180.jpg', '/home/sakulaki/dataset/enhancement_608_01/train/2017-10-10-16_20_45_19900_36600_r90.jpg', '/home/sakulaki/dataset/enhancement_608_01/train/2018-03-27-17_09_03_35900_17100.jpg']\n"
     ]
    }
   ],
   "source": [
    "print(os.getcwd())\n",
    "\n",
    "train_data_root_path = '/home/sakulaki/dataset/enhancement_608_01/train.txt'"
   ]
  },
  {
   "cell_type": "code",
   "execution_count": 18,
   "metadata": {
    "scrolled": true
   },
   "outputs": [
    {
     "name": "stdout",
     "output_type": "stream",
     "text": [
      "1000\n",
      "2000\n",
      "3000\n",
      "4000\n",
      "5000\n",
      "6000\n",
      "7000\n",
      "8000\n",
      "9000\n",
      "10000\n"
     ]
    }
   ],
   "source": [
    "classes = [\"ASCUS\", \"LSIL\", \"ASCH\", \"HSIL\", \"SCC\"]\n",
    "\n",
    "with open(train_data_root_path) as file_object:\n",
    "    images_path = (file_object.read()).split(\"\\n\")\n",
    "\n",
    "filename = os.path.join('enhancement01_608'+'.tfrecords')\n",
    "writer = tf.python_io.TFRecordWriter(filename)\n",
    "\n",
    "count = 0\n",
    "\n",
    "for image_path in images_path:\n",
    "    if (image_path != ''):\n",
    "        xywhc = convert_annotation(image_path, classes)\n",
    "        img_raw = convert_img(image_path)\n",
    "\n",
    "        example = tf.train.Example(features=tf.train.Features(feature={\n",
    "            'xywhc':\n",
    "                tf.train.Feature(float_list=tf.train.FloatList(value=xywhc)),\n",
    "            'img':\n",
    "                tf.train.Feature(bytes_list=tf.train.BytesList(value=[img_raw])),\n",
    "        }))\n",
    "        count += 1\n",
    "        if (count % 1000 == 0):\n",
    "            print(count)\n",
    "        writer.write(example.SerializeToString())\n",
    "        if count == 10000:\n",
    "            break\n",
    "writer.close()"
   ]
  },
  {
   "cell_type": "code",
   "execution_count": null,
   "metadata": {
    "collapsed": true
   },
   "outputs": [],
   "source": []
  }
 ],
 "metadata": {
  "kernelspec": {
   "display_name": "Python 3",
   "language": "python",
   "name": "python3"
  },
  "language_info": {
   "codemirror_mode": {
    "name": "ipython",
    "version": 3
   },
   "file_extension": ".py",
   "mimetype": "text/x-python",
   "name": "python",
   "nbconvert_exporter": "python",
   "pygments_lexer": "ipython3",
   "version": "3.5.4"
  }
 },
 "nbformat": 4,
 "nbformat_minor": 2
}
