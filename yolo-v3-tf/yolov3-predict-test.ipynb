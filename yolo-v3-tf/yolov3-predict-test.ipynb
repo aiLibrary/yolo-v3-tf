{
 "cells": [
  {
   "cell_type": "code",
   "execution_count": 6,
   "metadata": {},
   "outputs": [],
   "source": [
    "from net.yolo_top import yolov3\n",
    "import numpy as np\n",
    "import tensorflow as tf\n",
    "from net.config import cfg\n",
    "from PIL import Image, ImageDraw, ImageFont\n",
    "from predict.draw_box import draw_boxes\n",
    "import matplotlib.pyplot as plt"
   ]
  },
  {
   "cell_type": "code",
   "execution_count": 8,
   "metadata": {},
   "outputs": [
    {
     "ename": "AttributeError",
     "evalue": "'NoneType' object has no attribute 'model_checkpoint_path'",
     "output_type": "error",
     "traceback": [
      "\u001b[0;31m---------------------------------------------------------------------------\u001b[0m",
      "\u001b[0;31mAttributeError\u001b[0m                            Traceback (most recent call last)",
      "\u001b[0;32m<ipython-input-8-33b7f9e1c53d>\u001b[0m in \u001b[0;36m<module>\u001b[0;34m()\u001b[0m\n\u001b[1;32m     19\u001b[0m \u001b[0;32mwith\u001b[0m \u001b[0mtf\u001b[0m\u001b[0;34m.\u001b[0m\u001b[0mSession\u001b[0m\u001b[0;34m(\u001b[0m\u001b[0;34m)\u001b[0m \u001b[0;32mas\u001b[0m \u001b[0msess\u001b[0m\u001b[0;34m:\u001b[0m\u001b[0;34m\u001b[0m\u001b[0m\n\u001b[1;32m     20\u001b[0m     \u001b[0mckpt\u001b[0m \u001b[0;34m=\u001b[0m \u001b[0mtf\u001b[0m\u001b[0;34m.\u001b[0m\u001b[0mtrain\u001b[0m\u001b[0;34m.\u001b[0m\u001b[0mget_checkpoint_state\u001b[0m\u001b[0;34m(\u001b[0m\u001b[0mckpt_dir\u001b[0m\u001b[0;34m)\u001b[0m\u001b[0;34m\u001b[0m\u001b[0m\n\u001b[0;32m---> 21\u001b[0;31m     \u001b[0msaver\u001b[0m\u001b[0;34m.\u001b[0m\u001b[0mrestore\u001b[0m\u001b[0;34m(\u001b[0m\u001b[0msess\u001b[0m\u001b[0;34m,\u001b[0m \u001b[0mckpt\u001b[0m\u001b[0;34m.\u001b[0m\u001b[0mmodel_checkpoint_path\u001b[0m\u001b[0;34m)\u001b[0m\u001b[0;34m\u001b[0m\u001b[0m\n\u001b[0m\u001b[1;32m     22\u001b[0m     boxes_, scores_, classes_ = sess.run([boxes, scores, classes],\n\u001b[1;32m     23\u001b[0m                                          feed_dict={\n",
      "\u001b[0;31mAttributeError\u001b[0m: 'NoneType' object has no attribute 'model_checkpoint_path'"
     ]
    }
   ],
   "source": [
    "# IMG_ID ='008957'\n",
    "# image_test = Image.open('/home/raytroop/Dataset4ML/VOC2007/VOCdevkit/VOC2007/JPEGImages/{}.jpg'.format(IMG_ID))\n",
    "image_test = Image.open('dog.jpg')\n",
    "resized_image = image_test.resize((416, 416), Image.BICUBIC)\n",
    "image_data = np.array(resized_image, dtype='float32')\n",
    "\n",
    "imgs_holder = tf.placeholder(tf.float32, shape=[1, 416, 416, 3])\n",
    "istraining = tf.constant(False, tf.bool)\n",
    "cfg.batch_size = 1\n",
    "cfg.scratch = True\n",
    "\n",
    "model = yolov3(imgs_holder, None, istraining)\n",
    "img_hw = tf.placeholder(dtype=tf.float32, shape=[2])\n",
    "boxes, scores, classes = model.pedict(img_hw, iou_threshold=0.5, score_threshold=0.5)\n",
    "\n",
    "saver = tf.train.Saver()\n",
    "ckpt_dir = './ckpt/'\n",
    "\n",
    "with tf.Session() as sess:\n",
    "    ckpt = tf.train.get_checkpoint_state(ckpt_dir)\n",
    "    saver.restore(sess, ckpt.model_checkpoint_path)\n",
    "    boxes_, scores_, classes_ = sess.run([boxes, scores, classes],\n",
    "                                         feed_dict={\n",
    "                                                    img_hw: [image_test.size[1], image_test.size[0]],\n",
    "                                                    imgs_holder: np.reshape(image_data / 255, [1, 416, 416, 3])})\n",
    "\n",
    "    image_draw = draw_boxes(np.array(image_test, dtype=np.float32) / 255, boxes_, classes_, cfg.names, scores=scores_)\n",
    "    fig = plt.figure(frameon=False)\n",
    "    ax = plt.Axes(fig, [0, 0, 1, 1])\n",
    "    ax.set_axis_off()\n",
    "    fig.add_axes(ax)\n",
    "    plt.imshow(image_draw)\n",
    "    fig.savefig('prediction.jpg')\n",
    "    plt.show()"
   ]
  },
  {
   "cell_type": "code",
   "execution_count": null,
   "metadata": {
    "collapsed": true
   },
   "outputs": [],
   "source": []
  }
 ],
 "metadata": {
  "kernelspec": {
   "display_name": "Python 3",
   "language": "python",
   "name": "python3"
  },
  "language_info": {
   "codemirror_mode": {
    "name": "ipython",
    "version": 3
   },
   "file_extension": ".py",
   "mimetype": "text/x-python",
   "name": "python",
   "nbconvert_exporter": "python",
   "pygments_lexer": "ipython3",
   "version": "3.5.4"
  }
 },
 "nbformat": 4,
 "nbformat_minor": 2
}
